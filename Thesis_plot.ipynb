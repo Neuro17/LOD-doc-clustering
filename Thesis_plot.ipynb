{
 "cells": [
  {
   "cell_type": "code",
   "execution_count": 1,
   "metadata": {
    "collapsed": false
   },
   "outputs": [],
   "source": [
    "import pylab\n",
    "import matplotlib.pyplot as plt\n",
    "import pandas as pd\n",
    "import seaborn as sns\n",
    "import pprint as pp\n",
    "import numpy as np\n",
    "import document_processor as dp\n",
    "import test\n",
    "import classifier\n",
    "from LOD_extraction import entities_distribution\n",
    "from text_utils import TextUtils\n",
    "from mongo_hc import MongoHC\n",
    "from sklearn.feature_extraction.text import TfidfVectorizer\n",
    "from IPython.display import HTML\n",
    "from IPython.display import Math \n",
    "from alchemyapi_python.alchemyapi import AlchemyAPI\n",
    "from scipy.cluster import hierarchy as hr\n"
   ]
  },
  {
   "cell_type": "code",
   "execution_count": null,
   "metadata": {
    "collapsed": true
   },
   "outputs": [],
   "source": [
    "def entities_distribution(db, dataset):\n",
    "    mongo = MongoHC(db, dataset)\n",
    "\n",
    "    data = [doc for doc in mongo.get_all(order_by='id_doc')]\n",
    "\n",
    "    entities = set()\n",
    "\n",
    "    for d in data[:]:\n",
    "        for e in d['dandelion']['annotations']:\n",
    "            entities.add(e['lod']['dbpedia'])\n",
    "    entities_dict = {e: 0 for i, e in enumerate(entities)}\n",
    "\n",
    "    for d in data:\n",
    "        for e in d['dandelion']['annotations']:\n",
    "            entities_dict[e['lod']['dbpedia']] += 1\n",
    "\n",
    "    return entities_dict, entities"
   ]
  },
  {
   "cell_type": "code",
   "execution_count": null,
   "metadata": {
    "collapsed": false
   },
   "outputs": [],
   "source": [
    "mongo = MongoHC('hc', 're0')\n",
    "\n",
    "data = [doc for doc in mongo.get_all(order_by='id_doc')]\n",
    "\n",
    "entities = []\n",
    "\n",
    "for d in data[:]:\n",
    "    for e in d['dandelion']['annotations']:\n",
    "        entities.append(e['confidence'])"
   ]
  },
  {
   "cell_type": "code",
   "execution_count": null,
   "metadata": {
    "collapsed": false
   },
   "outputs": [],
   "source": [
    "my_series = pd.Series(entities)"
   ]
  },
  {
   "cell_type": "code",
   "execution_count": null,
   "metadata": {
    "collapsed": true
   },
   "outputs": [],
   "source": [
    "sns.distplot(my_series);\n",
    "sns.plt.show()"
   ]
  },
  {
   "cell_type": "code",
   "execution_count": null,
   "metadata": {
    "collapsed": false
   },
   "outputs": [],
   "source": [
    "only_text = [doc['text'] for doc in data]"
   ]
  },
  {
   "cell_type": "code",
   "execution_count": null,
   "metadata": {
    "collapsed": false
   },
   "outputs": [],
   "source": [
    "tfidf_vectorizer = TfidfVectorizer(max_df=0.5,\n",
    "                                   max_features=200000,\n",
    "                                   min_df=2,\n",
    "                                   stop_words='english',\n",
    "                                   strip_accents='unicode',\n",
    "                                   use_idf=True,\n",
    "                                   ngram_range=(1, 1),\n",
    "                                   norm='l2',\n",
    "                                   tokenizer=TextUtils.tokenize_and_stem)\n",
    "\n",
    "tfidf_matrix = tfidf_vectorizer.fit_transform(only_text)"
   ]
  },
  {
   "cell_type": "code",
   "execution_count": null,
   "metadata": {
    "collapsed": false
   },
   "outputs": [],
   "source": [
    "df_2 = pd.DataFrame(tfidf_matrix.data)"
   ]
  },
  {
   "cell_type": "code",
   "execution_count": null,
   "metadata": {
    "collapsed": true
   },
   "outputs": [],
   "source": [
    "sns.distplot(df_2);\n",
    "sns.plt.show()"
   ]
  },
  {
   "cell_type": "code",
   "execution_count": null,
   "metadata": {
    "collapsed": false
   },
   "outputs": [],
   "source": [
    "fig, (ax1, ax2, ax3) = plt.subplots(1,3, sharey=True, figsize=(12,4))\n",
    "#ax1\n",
    "sns.distplot(my_series, ax=ax1)\n",
    "#ax2\n",
    "sns.distplot(df_2, ax=ax2);\n",
    "\n",
    "#ax3\n",
    "sns.distplot(my_series, ax=ax3)\n",
    "sns.distplot(df_2, ax=ax3);\n",
    "ax3.set_xlim([-0.2,1])\n",
    "sns.plt.show()"
   ]
  },
  {
   "cell_type": "code",
   "execution_count": null,
   "metadata": {
    "collapsed": false
   },
   "outputs": [],
   "source": [
    "fig, (ax1) = plt.subplots(1,1, sharey=True, figsize=(15.0, 8.0))\n",
    "a = sns.distplot(my_series, ax=ax1, label='distribuzione delle entita\\'')\n",
    "b = sns.distplot(df_2, ax=ax1, label='distribuzione dei termini');\n",
    "ax3.set_xlim([-0.1,1])\n",
    "legend = plt.legend()\n",
    "sns.plt.show()"
   ]
  },
  {
   "cell_type": "code",
   "execution_count": 2,
   "metadata": {
    "collapsed": true
   },
   "outputs": [],
   "source": [
    "mongo_test = MongoHC('hc', 'test_new')"
   ]
  },
  {
   "cell_type": "code",
   "execution_count": 3,
   "metadata": {
    "collapsed": false
   },
   "outputs": [
    {
     "data": {
      "text/html": [
       "<div style=\"max-height:1000px;max-width:1500px;overflow:auto;\">\n",
       "<table border=\"1\" class=\"dataframe\">\n",
       "  <thead>\n",
       "    <tr style=\"text-align: right;\">\n",
       "      <th></th>\n",
       "      <th>gamma</th>\n",
       "      <th>avg_f_score</th>\n",
       "    </tr>\n",
       "  </thead>\n",
       "  <tbody>\n",
       "    <tr>\n",
       "      <th>22</th>\n",
       "      <td> 0.92</td>\n",
       "      <td> 0.656501</td>\n",
       "    </tr>\n",
       "  </tbody>\n",
       "</table>\n",
       "<p>1 rows × 2 columns</p>\n",
       "</div>"
      ],
      "text/plain": [
       "    gamma  avg_f_score\n",
       "22   0.92     0.656501\n",
       "\n",
       "[1 rows x 2 columns]"
      ]
     },
     "execution_count": 3,
     "metadata": {},
     "output_type": "execute_result"
    }
   ],
   "source": [
    "data = [res for res in mongo_test.get_by_key('dataset', 're0', order_by='n_attempt')]\n",
    "test_re0 = pd.DataFrame(data)\n",
    "test_re0[test_re0['avg_f_score'] == test_re0['avg_f_score'].max()][['gamma', 'avg_f_score']]"
   ]
  },
  {
   "cell_type": "code",
   "execution_count": null,
   "metadata": {
    "collapsed": false
   },
   "outputs": [],
   "source": [
    "re0 = sns.barplot(x='gamma', y='avg_f_score', data=test_re0,\n",
    "                palette=sns.color_palette(\"Reds\", n_colors=test_re0.shape[0]))\n",
    "sns.plt.show()"
   ]
  },
  {
   "cell_type": "code",
   "execution_count": 4,
   "metadata": {
    "collapsed": false
   },
   "outputs": [
    {
     "data": {
      "text/html": [
       "<div style=\"max-height:1000px;max-width:1500px;overflow:auto;\">\n",
       "<table border=\"1\" class=\"dataframe\">\n",
       "  <thead>\n",
       "    <tr style=\"text-align: right;\">\n",
       "      <th></th>\n",
       "      <th>gamma</th>\n",
       "      <th>avg_f_score</th>\n",
       "    </tr>\n",
       "  </thead>\n",
       "  <tbody>\n",
       "    <tr>\n",
       "      <th>23</th>\n",
       "      <td> 0.93</td>\n",
       "      <td> 0.785931</td>\n",
       "    </tr>\n",
       "  </tbody>\n",
       "</table>\n",
       "<p>1 rows × 2 columns</p>\n",
       "</div>"
      ],
      "text/plain": [
       "    gamma  avg_f_score\n",
       "23   0.93     0.785931\n",
       "\n",
       "[1 rows x 2 columns]"
      ]
     },
     "execution_count": 4,
     "metadata": {},
     "output_type": "execute_result"
    }
   ],
   "source": [
    "data = [res for res in mongo_test.get_by_key('dataset', 're1', order_by='n_attempt')]\n",
    "test_re1 = pd.DataFrame(data)\n",
    "test_re1[test_re1['avg_f_score'] == test_re1['avg_f_score'].max()][['gamma', 'avg_f_score']]"
   ]
  },
  {
   "cell_type": "code",
   "execution_count": 5,
   "metadata": {
    "collapsed": false
   },
   "outputs": [
    {
     "data": {
      "text/html": [
       "<div style=\"max-height:1000px;max-width:1500px;overflow:auto;\">\n",
       "<table border=\"1\" class=\"dataframe\">\n",
       "  <thead>\n",
       "    <tr style=\"text-align: right;\">\n",
       "      <th></th>\n",
       "      <th>gamma</th>\n",
       "      <th>avg_f_score</th>\n",
       "    </tr>\n",
       "  </thead>\n",
       "  <tbody>\n",
       "    <tr>\n",
       "      <th>15</th>\n",
       "      <td> 0.85</td>\n",
       "      <td> 0.665929</td>\n",
       "    </tr>\n",
       "  </tbody>\n",
       "</table>\n",
       "<p>1 rows × 2 columns</p>\n",
       "</div>"
      ],
      "text/plain": [
       "    gamma  avg_f_score\n",
       "15   0.85     0.665929\n",
       "\n",
       "[1 rows x 2 columns]"
      ]
     },
     "execution_count": 5,
     "metadata": {},
     "output_type": "execute_result"
    }
   ],
   "source": [
    "data = [res for res in mongo_test.get_by_key('dataset', 're0_lsa', order_by='n_attempt')]\n",
    "test_re0_lsa = pd.DataFrame(data)\n",
    "test_re0_lsa[test_re0_lsa['avg_f_score'] == test_re0_lsa['avg_f_score'].max()][['gamma', 'avg_f_score']]"
   ]
  },
  {
   "cell_type": "code",
   "execution_count": 6,
   "metadata": {
    "collapsed": false
   },
   "outputs": [
    {
     "data": {
      "text/html": [
       "<div style=\"max-height:1000px;max-width:1500px;overflow:auto;\">\n",
       "<table border=\"1\" class=\"dataframe\">\n",
       "  <thead>\n",
       "    <tr style=\"text-align: right;\">\n",
       "      <th></th>\n",
       "      <th>gamma</th>\n",
       "      <th>avg_f_score</th>\n",
       "    </tr>\n",
       "  </thead>\n",
       "  <tbody>\n",
       "    <tr>\n",
       "      <th>2</th>\n",
       "      <td> 0.72</td>\n",
       "      <td> 0.779976</td>\n",
       "    </tr>\n",
       "  </tbody>\n",
       "</table>\n",
       "<p>1 rows × 2 columns</p>\n",
       "</div>"
      ],
      "text/plain": [
       "   gamma  avg_f_score\n",
       "2   0.72     0.779976\n",
       "\n",
       "[1 rows x 2 columns]"
      ]
     },
     "execution_count": 6,
     "metadata": {},
     "output_type": "execute_result"
    }
   ],
   "source": [
    "data = [res for res in mongo_test.get_by_key('dataset', 're1_lsa', order_by='n_attempt')]\n",
    "test_re1_lsa = pd.DataFrame(data)\n",
    "test_re1_lsa[test_re1_lsa['avg_f_score'] == test_re1_lsa['avg_f_score'].max()][['gamma', 'avg_f_score']]"
   ]
  },
  {
   "cell_type": "code",
   "execution_count": 7,
   "metadata": {
    "collapsed": false
   },
   "outputs": [
    {
     "data": {
      "text/html": [
       "<div style=\"max-height:1000px;max-width:1500px;overflow:auto;\">\n",
       "<table border=\"1\" class=\"dataframe\">\n",
       "  <thead>\n",
       "    <tr style=\"text-align: right;\">\n",
       "      <th></th>\n",
       "      <th>gamma</th>\n",
       "      <th>avg_f_score</th>\n",
       "    </tr>\n",
       "  </thead>\n",
       "  <tbody>\n",
       "    <tr>\n",
       "      <th>2</th>\n",
       "      <td> 0.72</td>\n",
       "      <td> 0.802188</td>\n",
       "    </tr>\n",
       "  </tbody>\n",
       "</table>\n",
       "<p>1 rows × 2 columns</p>\n",
       "</div>"
      ],
      "text/plain": [
       "   gamma  avg_f_score\n",
       "2   0.72     0.802188\n",
       "\n",
       "[1 rows x 2 columns]"
      ]
     },
     "execution_count": 7,
     "metadata": {},
     "output_type": "execute_result"
    }
   ],
   "source": [
    "data = [res for res in mongo_test.get_by_key('dataset', 're1_abstract_lsa', order_by='n_attempt')]\n",
    "test_re1_abstract_lsa = pd.DataFrame(data)\n",
    "test_re1_abstract_lsa[test_re1_abstract_lsa['avg_f_score'] == test_re1_abstract_lsa['avg_f_score'].max()][['gamma', 'avg_f_score']]"
   ]
  },
  {
   "cell_type": "code",
   "execution_count": 70,
   "metadata": {
    "collapsed": false
   },
   "outputs": [
    {
     "data": {
      "text/html": [
       "<div style=\"max-height:1000px;max-width:1500px;overflow:auto;\">\n",
       "<table border=\"1\" class=\"dataframe\">\n",
       "  <thead>\n",
       "    <tr style=\"text-align: right;\">\n",
       "      <th></th>\n",
       "      <th>gamma</th>\n",
       "      <th>avg_f_score</th>\n",
       "    </tr>\n",
       "  </thead>\n",
       "  <tbody>\n",
       "    <tr>\n",
       "      <th>19</th>\n",
       "      <td> 0.89</td>\n",
       "      <td> 0.663865</td>\n",
       "    </tr>\n",
       "  </tbody>\n",
       "</table>\n",
       "<p>1 rows × 2 columns</p>\n",
       "</div>"
      ],
      "text/plain": [
       "    gamma  avg_f_score\n",
       "19   0.89     0.663865\n",
       "\n",
       "[1 rows x 2 columns]"
      ]
     },
     "execution_count": 70,
     "metadata": {},
     "output_type": "execute_result"
    }
   ],
   "source": [
    "data = [res for res in mongo_test.get_by_key('dataset', 're0_abstract_lsa', order_by='n_attempt')]\n",
    "test_re0_abstract_lsa = pd.DataFrame(data)\n",
    "test_re0_abstract_lsa.shape\n",
    "test_re0_abstract_lsa[test_re0_abstract_lsa['avg_f_score'] == test_re0_abstract_lsa['avg_f_score'].max()][['gamma', 'avg_f_score']]"
   ]
  },
  {
   "cell_type": "code",
   "execution_count": null,
   "metadata": {
    "collapsed": false
   },
   "outputs": [],
   "source": [
    "re1 = sns.barplot(x='gamma', y='avg_f_score', data= test_re1,\n",
    "                palette=sns.color_palette(\"Reds\", n_colors=test_re1.shape[0]))\n",
    "sns.plt.show()"
   ]
  },
  {
   "cell_type": "code",
   "execution_count": 9,
   "metadata": {
    "collapsed": false
   },
   "outputs": [],
   "source": [
    "reds = sns.color_palette(\"Reds_d\")\n",
    "greens = sns.color_palette(\"Greens_d\")\n",
    "blues = sns.color_palette(\"Blues_d\")"
   ]
  },
  {
   "cell_type": "code",
   "execution_count": null,
   "metadata": {
    "collapsed": false
   },
   "outputs": [],
   "source": [
    "sns.plt.plot([0.5] * 100)\n",
    "\n",
    "sns.plt.show()"
   ]
  },
  {
   "cell_type": "code",
   "execution_count": 69,
   "metadata": {
    "collapsed": false
   },
   "outputs": [],
   "source": [
    "fig, ((ax1, ax2), (ax3, ax4), (ax5, ax6)) = plt.subplots(3,2, sharey=True, figsize=(15.0, 10.0))\n",
    "\n",
    "clrs = [reds[4] if (x < test_re0['avg_f_score'].max()) else reds[0] for x in test_re0['avg_f_score'] ]\n",
    "a = sns.barplot(x='gamma', y='avg_f_score', data=test_re0, ax=ax1, label='prova1', palette=clrs, ci=0.2)\n",
    "\n",
    "clrs = [reds[4] if (x < test_re1['avg_f_score'].max()) else reds[0] for x in test_re1['avg_f_score'] ]\n",
    "b = sns.barplot(x='gamma', y='avg_f_score', data=test_re1, ax=ax2, label='prova', palette=clrs)\n",
    "\n",
    "clrs = [blues[4] if (x < test_re0_lsa['avg_f_score'].max()) else blues[0] for x in test_re0_lsa['avg_f_score'] ]\n",
    "c = sns.barplot(x='gamma', y='avg_f_score', data=test_re0_lsa, ax=ax3, label='prova',palette=clrs)\n",
    "clrs = [blues[4] if (x < test_re1_lsa['avg_f_score'].max()) else blues[0] for x in test_re1_lsa['avg_f_score'] ]\n",
    "d = sns.barplot(x='gamma', y='avg_f_score', data=test_re1_lsa, ax=ax4, label='prova',palette=clrs)\n",
    "\n",
    "clrs = [greens[4] if (x < test_re0_abstract_lsa['avg_f_score'].max()) else greens[0] for x in test_re0_abstract_lsa['avg_f_score'] ]     \n",
    "e = sns.barplot(x='gamma', y='avg_f_score', data=test_re0_abstract_lsa, ax=ax5, label='prova',palette=clrs)\n",
    "clrs = [greens[4] if (x < test_re1_abstract_lsa['avg_f_score'].max()) else greens[0] for x in test_re1_abstract_lsa['avg_f_score'] ]     \n",
    "f = sns.barplot(x='gamma', y='avg_f_score', data=test_re1_abstract_lsa, ax=ax6, label='prova',palette=clrs)\n",
    "\n",
    "plt.text(0.1, 0.9,'re0 testo + entita\\'', ha='left', va='center', transform=a.transAxes)\n",
    "plt.text(0.1, 0.9,'re1 testo + entita\\'', ha='left', va='center', transform=b.transAxes)\n",
    "plt.text(0.1, 0.9,'re0 testo + entita\\' con LSA', ha='left', va='center', transform=c.transAxes)\n",
    "plt.text(0.1, 0.9,'re1 testo + entita\\' con LSA', ha='left', va='center', transform=d.transAxes)\n",
    "plt.text(0.1, 0.9,'re0 testo + entita\\' + abstract con LSA', ha='left', va='center', transform=e.transAxes)\n",
    "plt.text(0.1, 0.9,'re1 testo + entita\\' + abstract con LSA', ha='left', va='center', transform=f.transAxes)\n",
    "\n",
    "for ax in [ax1, ax2, ax3, ax4, ax5, ax6]:\n",
    "    ax.set_ylim([0,1])\n",
    "\n",
    "for g in [a, b, c, d, e, f]:\n",
    "    g.set_xticklabels(test_re0['gamma'], rotation=90)\n",
    "    g.set(xlabel='gamma', ylabel='FScore')\n",
    "    \n",
    "#legend = plt.legend()\n",
    "fig.tight_layout()\n",
    "\n",
    "sns.plt.show()"
   ]
  },
  {
   "cell_type": "code",
   "execution_count": 2,
   "metadata": {
    "collapsed": false
   },
   "outputs": [
    {
     "name": "stdout",
     "output_type": "stream",
     "text": [
      "tfifd matrix dimension: 1262 x 4446\n",
      "entities matrix dimension: 1262 x 2911 \n",
      "non zero elements in entities matrix: 6538\n",
      "[0.21428571428571427,\n",
      " 0.6618705035971224,\n",
      " 0.6619718309859155,\n",
      " 0.846153846153846,\n",
      " 0.6606606606606606,\n",
      " 0.6268656716417911,\n",
      " 0.8735632183908045,\n",
      " 0.888888888888889,\n",
      " 0.592964824120603,\n",
      " 0.32432432432432434,\n",
      " 0.8,\n",
      " 0.7353463587921847,\n",
      " 0.6486486486486486]\n"
     ]
    }
   ],
   "source": [
    "linkage_matrix_re0 = classifier.cluster_dandelion_2('re0')"
   ]
  },
  {
   "cell_type": "code",
   "execution_count": 63,
   "metadata": {
    "collapsed": false
   },
   "outputs": [],
   "source": [
    "sns.clustermap(linkage_matrix_re0)\n",
    "sns.plt.show()"
   ]
  },
  {
   "cell_type": "code",
   "execution_count": 71,
   "metadata": {
    "collapsed": false
   },
   "outputs": [
    {
     "name": "stdout",
     "output_type": "stream",
     "text": [
      "tfifd matrix dimension: 1404 x 5660\n",
      "entities matrix dimension: 1404 x 4498 \n",
      "non zero elements in entities matrix: 7344\n",
      "[0.6857142857142858,\n",
      " 0.5882352941176471,\n",
      " 0.8333333333333334,\n",
      " 0.9308755760368664,\n",
      " 0.7610619469026549,\n",
      " 0.7906976744186047,\n",
      " 0.8623595505617978,\n",
      " 1.0,\n",
      " 0.5625000000000001,\n",
      " 0.8165680473372782,\n",
      " 0.37333333333333335,\n",
      " 0.6760563380281689,\n",
      " 0.5714285714285715,\n",
      " 0.22222222222222224,\n",
      " 0.8571428571428571,\n",
      " 0.6666666666666667,\n",
      " 0.9473684210526316,\n",
      " 0.6486486486486486,\n",
      " 0.7213114754098361,\n",
      " 0.8058823529411765,\n",
      " 0.8923076923076924,\n",
      " 0.7599999999999999,\n",
      " 0.7352941176470588,\n",
      " 0.3448275862068965]\n"
     ]
    }
   ],
   "source": [
    "linkage_matrix_re1 = linkage_matrix = classifier.cluster_dandelion_2('re1')"
   ]
  },
  {
   "cell_type": "code",
   "execution_count": 14,
   "metadata": {
    "collapsed": false
   },
   "outputs": [],
   "source": [
    "dendogram = hr.dendrogram(linkage_matrix_re0, p=10, truncate_mode='level', labels=[' '] * linkage_matrix_re0.shape[0]*10)\n",
    "plt.show()"
   ]
  }
 ],
 "metadata": {
  "kernelspec": {
   "display_name": "Python 2",
   "language": "python",
   "name": "python2"
  },
  "language_info": {
   "codemirror_mode": {
    "name": "ipython",
    "version": 2
   },
   "file_extension": ".py",
   "mimetype": "text/x-python",
   "name": "python",
   "nbconvert_exporter": "python",
   "pygments_lexer": "ipython2",
   "version": "2.7.6"
  }
 },
 "nbformat": 4,
 "nbformat_minor": 0
}
